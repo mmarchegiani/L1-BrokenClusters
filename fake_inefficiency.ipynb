{
 "cells": [
  {
   "cell_type": "code",
   "execution_count": 1,
   "metadata": {},
   "outputs": [
    {
     "name": "stdout",
     "output_type": "stream",
     "text": [
      "Plots will be saved in ../ntuplesPixel/plots/fake_inefficiency/\n",
      "Opening /scratch/mmarcheg/lumi_data/Run300806.root\n",
      "b'tree' contains 53605236 entries\n"
     ]
    }
   ],
   "source": [
    "import sys, os\n",
    "import uproot\n",
    "import pandas as pd\n",
    "import numpy as np\n",
    "import matplotlib.pyplot as plt\n",
    "import splitlib as sp\n",
    "\n",
    "filename = \"/scratch/mmarcheg/lumi_data/Run300806.root\"\n",
    "plot_dir = \"../ntuplesPixel/plots/fake_inefficiency/\"\n",
    "if not os.path.exists(plot_dir):\n",
    "\tos.makedirs(plot_dir)\n",
    "print(\"Plots will be saved in \" + plot_dir)\n",
    "print(\"Opening %s\" % filename)\n",
    "file = uproot.open(filename)\n",
    "tree = file[b'a/tree;1']\n",
    "print(str(tree.name) + \" contains \" + str(len(tree)) + \" entries\")"
   ]
  },
  {
   "cell_type": "code",
   "execution_count": 2,
   "metadata": {
    "collapsed": true
   },
   "outputs": [],
   "source": [
    "df = tree.pandas.df([b'ladder', b'x', b'y', b'pos_x', b'pos_y', b'size', b'cols', b'rows', b'global_eta', b'global_phi', b'instaLumi', b'bx', b'tres'])"
   ]
  },
  {
   "cell_type": "code",
   "execution_count": 4,
   "metadata": {},
   "outputs": [
    {
     "name": "stdout",
     "output_type": "stream",
     "text": [
      "Selecting cols==7\n",
      "Selecting size==5\n",
      "entries = 192306933\n",
      "Selecting rows==1\tentries = 1283104\tSelecting rows==1\tentries = 219210\t"
     ]
    }
   ],
   "source": [
    "nfull = 7\n",
    "nbroken = 5\n",
    "df_grid, df_grid_full, df_grid_broken = sp.select_cols_df(df, nfull, nbroken, selection=False)\n",
    "df_grid_full = sp.select_rows(df_grid_full, 1)\n",
    "df_grid_broken = sp.select_rows(df_grid_broken, 1)"
   ]
  },
  {
   "cell_type": "code",
   "execution_count": 54,
   "metadata": {
    "scrolled": false
   },
   "outputs": [
    {
     "name": "stdout",
     "output_type": "stream",
     "text": [
      "Matrix of missing pixels\n",
      "[[   0    0    0    0    0    0    0    0]\n",
      " [   0    0    0    0    0    0    0    0]\n",
      " [   0    0    0 7008  105   71   49    0]\n",
      " [   0    0    0    0  260   64   57    0]\n",
      " [   0    0    0    0    0 6955   87    0]\n",
      " [   0    0    0    0    0    0  338    0]\n",
      " [   0    0    0    0    0    0    0    0]\n",
      " [   0    0    0    0    0    0    0    0]]\n",
      "\n",
      "Percentages of missing pixels\n",
      "[[ 0.          0.          0.          0.          0.          0.\n",
      "   0.          0.        ]\n",
      " [ 0.          0.          0.          0.          0.          0.\n",
      "   0.          0.        ]\n",
      " [ 0.          0.          0.         46.73869548  0.70028011  0.47352274\n",
      "   0.32679739  0.        ]\n",
      " [ 0.          0.          0.          0.          1.73402694  0.4268374\n",
      "   0.38015206  0.        ]\n",
      " [ 0.          0.          0.          0.          0.         46.38522075\n",
      "   0.58023209  0.        ]\n",
      " [ 0.          0.          0.          0.          0.          0.\n",
      "   2.25423503  0.        ]\n",
      " [ 0.          0.          0.          0.          0.          0.\n",
      "   0.          0.        ]\n",
      " [ 0.          0.          0.          0.          0.          0.\n",
      "   0.          0.        ]]\n"
     ]
    }
   ],
   "source": [
    "j = 0\n",
    "M = np.matrix([[0]*8]*8)\n",
    "#print(M)\n",
    "missing = []\n",
    "N_tot = 0\n",
    "for i in range(len(df_grid_broken)):\n",
    "    pixel_hits = []\n",
    "    missing = []\n",
    "    for j in range(nbroken):\n",
    "        if j == 0:\n",
    "            if df_grid_broken.iloc[nbroken*i+j]['x'] == 0:\n",
    "                j = -1\n",
    "                break\n",
    "        pixel_hits.append(df_grid_broken.iloc[nbroken*i+j]['x'])\n",
    "    if j == -1:\n",
    "        continue\n",
    "    for j in range(1, nfull):\n",
    "        if j not in pixel_hits:\n",
    "            missing.append(j)\n",
    "    #print(pixel_hits)\n",
    "    #print(missing, end=\"\\t\")\n",
    "    #print(5*i+j)\n",
    "    if len(missing) > 2:\n",
    "        break\n",
    "    else:\n",
    "        M.itemset(tuple(missing), M.item(tuple(missing)) + 1)\n",
    "        N_tot += 1\n",
    "    \n",
    "print(\"Matrix of missing pixels\")\n",
    "print(M,end=\"\\n\\n\")\n",
    "print(\"Percentages of missing pixels\")\n",
    "print(100*M/N_tot)"
   ]
  },
  {
   "cell_type": "code",
   "execution_count": 87,
   "metadata": {},
   "outputs": [
    {
     "name": "stdout",
     "output_type": "stream",
     "text": [
      "[[   0 7008  105   71   49]\n",
      " [   0    0  260   64   57]\n",
      " [   0    0    0 6955   87]\n",
      " [   0    0    0    0  338]\n",
      " [   0    0    0    0    0]]\n",
      "[[ 0.  46.7  0.7  0.5  0.3]\n",
      " [ 0.   0.   1.7  0.4  0.4]\n",
      " [ 0.   0.   0.  46.4  0.6]\n",
      " [ 0.   0.   0.   0.   2.3]\n",
      " [ 0.   0.   0.   0.   0. ]]\n"
     ]
    }
   ],
   "source": [
    "M_new = np.delete(M, [0,1,7], 0)\n",
    "M_new = np.delete(M_new, [0,1,7], 1)\n",
    "print(M_new)\n",
    "np.set_printoptions(precision=1)\n",
    "print(100*M_new/N_tot)"
   ]
  },
  {
   "cell_type": "code",
   "execution_count": 118,
   "metadata": {
    "scrolled": false
   },
   "outputs": [
    {
     "data": {
      "image/png": "[encoded data removed]",
      "text/plain": [
       "<matplotlib.figure.Figure at 0x7f89fce6fd30>"
      ]
     },
     "metadata": {},
     "output_type": "display_data"
    },
    {
     "data": {
      "image/png": "[encoded data removed]",
      "text/plain": [
       "<matplotlib.figure.Figure at 0x7f89fcc30be0>"
      ]
     },
     "metadata": {},
     "output_type": "display_data"
    }
   ],
   "source": [
    "from matplotlib import colors\n",
    "for (k,matrix) in enumerate([M_new, 100*M_new/N_tot]):\n",
    "    fig, ax = plt.subplots()\n",
    "    im = ax.imshow(matrix, norm=colors.LogNorm(vmin=matrix[matrix != 0].min(), vmax=matrix.max()), cmap=\"Blues\")\n",
    "    ax_ticks = range(2,7)\n",
    "    # We want to show all ticks...\n",
    "    ax.set_xticks(np.arange(len(ax_ticks)))\n",
    "    ax.set_yticks(np.arange(len(ax_ticks)))\n",
    "    # ... and label them with the respective list entries\n",
    "    ax.set_xticklabels(ax_ticks)\n",
    "    ax.set_yticklabels(ax_ticks)\n",
    "\n",
    "    # Loop over data dimensions and create text annotations.\n",
    "    for i in range(len(ax_ticks)):\n",
    "        for j in range(len(ax_ticks)):\n",
    "            if M_new[i, j] != 0:\n",
    "                if k == 0:\n",
    "                    str = \"%d\"\n",
    "                else:\n",
    "                    str = \"%.1f\"\n",
    "                if matrix[i, j] < 0.9*matrix.max():\n",
    "                    text = ax.text(j, i, str % matrix[i, j], ha=\"center\", va=\"center\", color=\"black\")\n",
    "                else:\n",
    "                    text = ax.text(j, i, str % matrix[i, j], ha=\"center\", va=\"center\", color=\"white\")                    \n",
    "            else:\n",
    "                text = ax.text(j, i, \"-\", ha=\"center\", va=\"center\", color=\"black\")\n",
    "\n",
    "    filename = \"\"\n",
    "    if k == 0:\n",
    "        ax.set_title(\"Missing pixels\")\n",
    "        filename = \"missing_pixels.png\"\n",
    "    if k == 1:\n",
    "        ax.set_title(\"Percentages of missing pixels\")\n",
    "        filename = \"missing_pixels_perc.png\"\n",
    "    fig.tight_layout()\n",
    "    plt.savefig(plot_dir + filename, format=\"png\", dpi=300)\n",
    "    plt.show()"
   ]
  },
  {
   "cell_type": "code",
   "execution_count": 94,
   "metadata": {},
   "outputs": [
    {
     "name": "stdout",
     "output_type": "stream",
     "text": [
      "ladder           -3.000000\n",
      "x                 1.000000\n",
      "y                 0.000000\n",
      "pos_x            44.000000\n",
      "pos_y            19.000000\n",
      "size              5.000000\n",
      "cols              7.000000\n",
      "rows              1.000000\n",
      "global_eta       -2.784729\n",
      "global_phi        2.683816\n",
      "instaLumi     16893.700000\n",
      "bx             1334.000000\n",
      "tres           1898.000000\n",
      "Name: (36117627, 1), dtype: float64\n",
      "ladder           -3.000000\n",
      "x                 4.000000\n",
      "y                 0.000000\n",
      "pos_x            44.000000\n",
      "pos_y            19.000000\n",
      "size              5.000000\n",
      "cols              7.000000\n",
      "rows              1.000000\n",
      "global_eta       -2.784729\n",
      "global_phi        2.683816\n",
      "instaLumi     16893.700000\n",
      "bx             1334.000000\n",
      "tres           1898.000000\n",
      "Name: (36117627, 2), dtype: float64\n",
      "ladder           -3.000000\n",
      "x                 5.000000\n",
      "y                 0.000000\n",
      "pos_x            44.000000\n",
      "pos_y            19.000000\n",
      "size              5.000000\n",
      "cols              7.000000\n",
      "rows              1.000000\n",
      "global_eta       -2.784729\n",
      "global_phi        2.683816\n",
      "instaLumi     16893.700000\n",
      "bx             1334.000000\n",
      "tres           1898.000000\n",
      "Name: (36117627, 3), dtype: float64\n",
      "ladder           -3.000000\n",
      "x                 6.000000\n",
      "y                 0.000000\n",
      "pos_x            44.000000\n",
      "pos_y            19.000000\n",
      "size              5.000000\n",
      "cols              7.000000\n",
      "rows              1.000000\n",
      "global_eta       -2.784729\n",
      "global_phi        2.683816\n",
      "instaLumi     16893.700000\n",
      "bx             1334.000000\n",
      "tres           1898.000000\n",
      "Name: (36117627, 4), dtype: float64\n",
      "ladder            -3.000000\n",
      "x                  1.000000\n",
      "y                  0.000000\n",
      "pos_x            238.000000\n",
      "pos_y            124.000000\n",
      "size               5.000000\n",
      "cols               7.000000\n",
      "rows               1.000000\n",
      "global_eta        -2.922838\n",
      "global_phi         3.094681\n",
      "instaLumi      16893.700000\n",
      "bx              1177.000000\n",
      "tres          436549.000000\n",
      "Name: (36122544, 0), dtype: float64\n"
     ]
    }
   ],
   "source": [
    "for i in range(nbroken):\n",
    "    print(df_grid_broken.iloc[148201+i])"
   ]
  },
  {
   "cell_type": "code",
   "execution_count": null,
   "metadata": {
    "collapsed": true
   },
   "outputs": [],
   "source": []
  }
 ],
 "metadata": {
  "kernelspec": {
   "display_name": "pixel",
   "language": "python",
   "name": "pixel"
  },
  "language_info": {
   "codemirror_mode": {
    "name": "ipython",
    "version": 3
   },
   "file_extension": ".py",
   "mimetype": "text/x-python",
   "name": "python",
   "nbconvert_exporter": "python",
   "pygments_lexer": "ipython3",
   "version": "3.6.1"
  }
 },
 "nbformat": 4,
 "nbformat_minor": 2
}
