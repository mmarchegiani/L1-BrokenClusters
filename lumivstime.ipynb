{
 "cells": [
  {
   "cell_type": "code",
   "execution_count": 1,
   "metadata": {
    "collapsed": true
   },
   "outputs": [],
   "source": [
    "import sys, os, pandas\n",
    "import uproot\n",
    "import numpy as np\n",
    "# import HDFStore\n",
    "import matplotlib.pyplot as plt"
   ]
  },
  {
   "cell_type": "code",
   "execution_count": 2,
   "metadata": {},
   "outputs": [
    {
     "name": "stdout",
     "output_type": "stream",
     "text": [
      "Opening /scratch/mmarcheg/lumi_data/clusters_V1_Run2017C_Fill6061.root\n"
     ]
    }
   ],
   "source": [
    "filename = \"/scratch/mmarcheg/lumi_data/clusters_V1_Run2017C_Fill6061.root\"\n",
    "#plot_dir = \"../ntuplesPixel/plots/\" + (filename.split(\"/\")[-1]).split(\".\")[-2] + \"/\"\n",
    "#os.mkdir(plot_dir)\n",
    "print(\"Opening %s\" % filename)\n",
    "file = uproot.open(filename)"
   ]
  },
  {
   "cell_type": "code",
   "execution_count": 3,
   "metadata": {},
   "outputs": [
    {
     "name": "stdout",
     "output_type": "stream",
     "text": [
      "b'tree' contains 278887529 entries\n"
     ]
    }
   ],
   "source": [
    "tree = file[b'a/tree;1']\n",
    "print(str(tree.name) + \" contains \" + str(len(tree)) + \" entries\")"
   ]
  },
  {
   "cell_type": "code",
   "execution_count": 14,
   "metadata": {
    "collapsed": true
   },
   "outputs": [],
   "source": [
    "entrystop = 53605236\n",
    "read_entries = 0\n",
    "#df_list = []\n",
    "instaLumi = np.array([])\n",
    "N = len(tree)\n",
    "df_grid =tree.pandas.df([b'instaLumi', b'bx', b'orbit'], entrystop=entrystop)"
   ]
  },
  {
   "cell_type": "code",
   "execution_count": 15,
   "metadata": {},
   "outputs": [
    {
     "data": {
      "text/html": [
       "<div>\n",
       "<style>\n",
       "    .dataframe thead tr:only-child th {\n",
       "        text-align: right;\n",
       "    }\n",
       "\n",
       "    .dataframe thead th {\n",
       "        text-align: left;\n",
       "    }\n",
       "\n",
       "    .dataframe tbody tr th {\n",
       "        vertical-align: top;\n",
       "    }\n",
       "</style>\n",
       "<table border=\"1\" class=\"dataframe\">\n",
       "  <thead>\n",
       "    <tr style=\"text-align: right;\">\n",
       "      <th></th>\n",
       "      <th>instaLumi</th>\n",
       "      <th>bx</th>\n",
       "      <th>orbit</th>\n",
       "    </tr>\n",
       "  </thead>\n",
       "  <tbody>\n",
       "    <tr>\n",
       "      <th>0</th>\n",
       "      <td>16524.0</td>\n",
       "      <td>1572</td>\n",
       "      <td>22245640</td>\n",
       "    </tr>\n",
       "    <tr>\n",
       "      <th>1</th>\n",
       "      <td>16524.0</td>\n",
       "      <td>1572</td>\n",
       "      <td>22245640</td>\n",
       "    </tr>\n",
       "    <tr>\n",
       "      <th>2</th>\n",
       "      <td>16524.0</td>\n",
       "      <td>1572</td>\n",
       "      <td>22245640</td>\n",
       "    </tr>\n",
       "    <tr>\n",
       "      <th>3</th>\n",
       "      <td>16524.0</td>\n",
       "      <td>1572</td>\n",
       "      <td>22245640</td>\n",
       "    </tr>\n",
       "    <tr>\n",
       "      <th>4</th>\n",
       "      <td>16524.0</td>\n",
       "      <td>1572</td>\n",
       "      <td>22245640</td>\n",
       "    </tr>\n",
       "  </tbody>\n",
       "</table>\n",
       "</div>"
      ],
      "text/plain": [
       "   instaLumi    bx     orbit\n",
       "0    16524.0  1572  22245640\n",
       "1    16524.0  1572  22245640\n",
       "2    16524.0  1572  22245640\n",
       "3    16524.0  1572  22245640\n",
       "4    16524.0  1572  22245640"
      ]
     },
     "execution_count": 15,
     "metadata": {},
     "output_type": "execute_result"
    }
   ],
   "source": [
    "df_grid.head()"
   ]
  },
  {
   "cell_type": "code",
   "execution_count": 16,
   "metadata": {},
   "outputs": [
    {
     "data": {
      "text/html": [
       "<div>\n",
       "<style>\n",
       "    .dataframe thead tr:only-child th {\n",
       "        text-align: right;\n",
       "    }\n",
       "\n",
       "    .dataframe thead th {\n",
       "        text-align: left;\n",
       "    }\n",
       "\n",
       "    .dataframe tbody tr th {\n",
       "        vertical-align: top;\n",
       "    }\n",
       "</style>\n",
       "<table border=\"1\" class=\"dataframe\">\n",
       "  <thead>\n",
       "    <tr style=\"text-align: right;\">\n",
       "      <th></th>\n",
       "      <th>instaLumi</th>\n",
       "      <th>bx</th>\n",
       "      <th>orbit</th>\n",
       "    </tr>\n",
       "  </thead>\n",
       "  <tbody>\n",
       "    <tr>\n",
       "      <th>0</th>\n",
       "      <td>16524.0</td>\n",
       "      <td>1572</td>\n",
       "      <td>22245640</td>\n",
       "    </tr>\n",
       "    <tr>\n",
       "      <th>3469</th>\n",
       "      <td>16524.0</td>\n",
       "      <td>56</td>\n",
       "      <td>22261652</td>\n",
       "    </tr>\n",
       "    <tr>\n",
       "      <th>7380</th>\n",
       "      <td>16524.0</td>\n",
       "      <td>3315</td>\n",
       "      <td>22238407</td>\n",
       "    </tr>\n",
       "    <tr>\n",
       "      <th>11588</th>\n",
       "      <td>16524.0</td>\n",
       "      <td>2753</td>\n",
       "      <td>22268763</td>\n",
       "    </tr>\n",
       "    <tr>\n",
       "      <th>15875</th>\n",
       "      <td>16524.0</td>\n",
       "      <td>2288</td>\n",
       "      <td>22262092</td>\n",
       "    </tr>\n",
       "  </tbody>\n",
       "</table>\n",
       "</div>"
      ],
      "text/plain": [
       "       instaLumi    bx     orbit\n",
       "0        16524.0  1572  22245640\n",
       "3469     16524.0    56  22261652\n",
       "7380     16524.0  3315  22238407\n",
       "11588    16524.0  2753  22268763\n",
       "15875    16524.0  2288  22262092"
      ]
     },
     "execution_count": 16,
     "metadata": {},
     "output_type": "execute_result"
    }
   ],
   "source": [
    "df_grid.drop_duplicates(subset=None, keep='first', inplace=True)\n",
    "df_grid.head()"
   ]
  },
  {
   "cell_type": "code",
   "execution_count": 33,
   "metadata": {},
   "outputs": [
    {
     "data": {
      "image/png": "[encoded data removed]",
      "text/plain": [
       "<matplotlib.figure.Figure at 0x7f1dd8b44908>"
      ]
     },
     "metadata": {},
     "output_type": "display_data"
    }
   ],
   "source": [
    "plt.scatter(0.0000889*df_grid['orbit'], df_grid['instaLumi'], marker='.', color='blue')\n",
    "plt.xlabel('time [s]')\n",
    "plt.ylabel('instaLumi [$10^{30} cm^{-2} s$]')\n",
    "plt.title('Instantaneous luminosity')\n",
    "plt.show()"
   ]
  },
  {
   "cell_type": "code",
   "execution_count": 36,
   "metadata": {},
   "outputs": [
    {
     "name": "stdout",
     "output_type": "stream",
     "text": [
      "[ 9010.   9887.6 10683.  11441.6 12306.2 13256.7 14133.6 15011.4 15746.8\n",
      " 16369.7 17117. ]\n"
     ]
    }
   ],
   "source": [
    "nbins=10\n",
    "lumi_bins = np.quantile(instaLumi, np.linspace(0, 1, nbins+1))\n",
    "print(lumi_bins)"
   ]
  },
  {
   "cell_type": "code",
   "execution_count": 38,
   "metadata": {},
   "outputs": [
    {
     "data": {
      "image/png": "[encoded data removed]",
      "text/plain": [
       "<matplotlib.figure.Figure at 0x7fcfee00e710>"
      ]
     },
     "metadata": {},
     "output_type": "display_data"
    }
   ],
   "source": [
    "plt.hist(instaLumi, bins=lumi_bins, facecolor='green', ec='black')\n",
    "plt.xlabel('instaLumi')\n",
    "plt.ylabel('entries')\n",
    "plt.title('instaLumi | quantiles')\n",
    "plt.show()"
   ]
  },
  {
   "cell_type": "code",
   "execution_count": null,
   "metadata": {
    "collapsed": true
   },
   "outputs": [],
   "source": []
  }
 ],
 "metadata": {
  "anaconda-cloud": {},
  "kernelspec": {
   "display_name": "pixel",
   "language": "python",
   "name": "pixel"
  },
  "language_info": {
   "codemirror_mode": {
    "name": "ipython",
    "version": 3
   },
   "file_extension": ".py",
   "mimetype": "text/x-python",
   "name": "python",
   "nbconvert_exporter": "python",
   "pygments_lexer": "ipython3",
   "version": "3.6.1"
  }
 },
 "nbformat": 4,
 "nbformat_minor": 2
}
