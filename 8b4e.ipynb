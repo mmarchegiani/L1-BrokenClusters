{
 "cells": [
  {
   "cell_type": "code",
   "execution_count": 1,
   "metadata": {
    "collapsed": true
   },
   "outputs": [],
   "source": [
    "import sys, os, pandas\n",
    "import uproot\n",
    "import numpy as np\n",
    "# import HDFStore\n",
    "import matplotlib.pyplot as plt"
   ]
  },
  {
   "cell_type": "code",
   "execution_count": 2,
   "metadata": {},
   "outputs": [
    {
     "name": "stdout",
     "output_type": "stream",
     "text": [
      "Opening /scratch/mmarcheg/lumi_data/Run305064.root\n"
     ]
    }
   ],
   "source": [
    "#filename = \"/scratch/mmarcheg/lumi_data/Run305059.root\"\n",
    "filename2 = \"/scratch/mmarcheg/lumi_data/Run305064.root\"\n",
    "#plot_dir = \"../ntuplesPixel/plots/\" + (filename.split(\"/\")[-1]).split(\".\")[-2] + \"/\"\n",
    "#os.mkdir(plot_dir)\n",
    "#print(\"Opening %s\" % filename)\n",
    "#file = uproot.open(filename)\n",
    "print(\"Opening %s\" % filename2)\n",
    "file2 = uproot.open(filename2)"
   ]
  },
  {
   "cell_type": "code",
   "execution_count": 3,
   "metadata": {},
   "outputs": [
    {
     "name": "stdout",
     "output_type": "stream",
     "text": [
      "b'tree' contains 533251558 entries\n"
     ]
    }
   ],
   "source": [
    "#tree = file[b'a/tree;1']\n",
    "#print(str(tree.name) + \" contains \" + str(len(tree)) + \" entries\")\n",
    "tree2 = file2[b'a/tree;1']\n",
    "print(str(tree2.name) + \" contains \" + str(len(tree2)) + \" entries\")"
   ]
  },
  {
   "cell_type": "code",
   "execution_count": 13,
   "metadata": {},
   "outputs": [],
   "source": [
    "entrystop = 53605236\n",
    "read_entries = 0\n",
    "#df_list = []\n",
    "instaLumi = np.array([])\n",
    "N = len(tree2)\n",
    "df_grid =tree2.pandas.df([b'ladder', b'pos_x', b'pos_y', b'size', b'cols', b'rows', b'global_eta', b'global_phi', b'instaLumi', b'bx', b'tres'], entrystop=entrystop)"
   ]
  },
  {
   "cell_type": "code",
   "execution_count": 15,
   "metadata": {},
   "outputs": [
    {
     "name": "stdout",
     "output_type": "stream",
     "text": [
      "ti = 0\tN=2160217\n",
      "ti = 1\tN=13513271\n",
      "ti = 2\tN=3980887\n",
      "ti = 3\tN=4038422\n",
      "ti = 4\tN=4293651\n",
      "ti = 5\tN=4671497\n",
      "ti = 6\tN=4684269\n",
      "ti = 7\tN=4571727\n",
      "ti = 8\tN=11607979\n"
     ]
    }
   ],
   "source": [
    "import bx_index as bi\n",
    "df_grid['ti'] = df_grid['bx'].apply(bi.ti.get)\n",
    "for i in range(9):\n",
    "    df_grid_selected = df_grid.query('ti == ' + str(i))\n",
    "    print(\"ti = %d\\tN=%d\" % (i, df_grid_selected.shape[0]))"
   ]
  },
  {
   "cell_type": "code",
   "execution_count": 17,
   "metadata": {},
   "outputs": [
    {
     "data": {
      "text/html": [
       "<div>\n",
       "<style>\n",
       "    .dataframe thead tr:only-child th {\n",
       "        text-align: right;\n",
       "    }\n",
       "\n",
       "    .dataframe thead th {\n",
       "        text-align: left;\n",
       "    }\n",
       "\n",
       "    .dataframe tbody tr th {\n",
       "        vertical-align: top;\n",
       "    }\n",
       "</style>\n",
       "<table border=\"1\" class=\"dataframe\">\n",
       "  <thead>\n",
       "    <tr style=\"text-align: right;\">\n",
       "      <th></th>\n",
       "      <th>ladder</th>\n",
       "      <th>pos_x</th>\n",
       "      <th>pos_y</th>\n",
       "      <th>size</th>\n",
       "      <th>cols</th>\n",
       "      <th>rows</th>\n",
       "      <th>global_eta</th>\n",
       "      <th>global_phi</th>\n",
       "      <th>instaLumi</th>\n",
       "      <th>bx</th>\n",
       "      <th>tres</th>\n",
       "      <th>ti</th>\n",
       "    </tr>\n",
       "  </thead>\n",
       "  <tbody>\n",
       "    <tr>\n",
       "      <th>6408</th>\n",
       "      <td>3</td>\n",
       "      <td>412</td>\n",
       "      <td>65</td>\n",
       "      <td>1</td>\n",
       "      <td>1</td>\n",
       "      <td>1</td>\n",
       "      <td>-2.552218</td>\n",
       "      <td>0.295031</td>\n",
       "      <td>9240.4</td>\n",
       "      <td>834</td>\n",
       "      <td>129702</td>\n",
       "      <td>0</td>\n",
       "    </tr>\n",
       "    <tr>\n",
       "      <th>6409</th>\n",
       "      <td>3</td>\n",
       "      <td>374</td>\n",
       "      <td>114</td>\n",
       "      <td>1</td>\n",
       "      <td>1</td>\n",
       "      <td>1</td>\n",
       "      <td>-2.514541</td>\n",
       "      <td>0.134314</td>\n",
       "      <td>9240.4</td>\n",
       "      <td>834</td>\n",
       "      <td>129702</td>\n",
       "      <td>0</td>\n",
       "    </tr>\n",
       "    <tr>\n",
       "      <th>6410</th>\n",
       "      <td>3</td>\n",
       "      <td>348</td>\n",
       "      <td>109</td>\n",
       "      <td>1</td>\n",
       "      <td>1</td>\n",
       "      <td>1</td>\n",
       "      <td>-2.495386</td>\n",
       "      <td>0.149205</td>\n",
       "      <td>9240.4</td>\n",
       "      <td>834</td>\n",
       "      <td>129702</td>\n",
       "      <td>0</td>\n",
       "    </tr>\n",
       "    <tr>\n",
       "      <th>6411</th>\n",
       "      <td>3</td>\n",
       "      <td>190</td>\n",
       "      <td>4</td>\n",
       "      <td>1</td>\n",
       "      <td>1</td>\n",
       "      <td>1</td>\n",
       "      <td>-2.348001</td>\n",
       "      <td>0.480021</td>\n",
       "      <td>9240.4</td>\n",
       "      <td>834</td>\n",
       "      <td>129702</td>\n",
       "      <td>0</td>\n",
       "    </tr>\n",
       "    <tr>\n",
       "      <th>6412</th>\n",
       "      <td>3</td>\n",
       "      <td>20</td>\n",
       "      <td>79</td>\n",
       "      <td>1</td>\n",
       "      <td>1</td>\n",
       "      <td>1</td>\n",
       "      <td>-2.202473</td>\n",
       "      <td>0.242300</td>\n",
       "      <td>9240.4</td>\n",
       "      <td>834</td>\n",
       "      <td>129702</td>\n",
       "      <td>0</td>\n",
       "    </tr>\n",
       "  </tbody>\n",
       "</table>\n",
       "</div>"
      ],
      "text/plain": [
       "      ladder  pos_x  pos_y  size  cols  rows  global_eta  global_phi  \\\n",
       "6408       3    412     65     1     1     1   -2.552218    0.295031   \n",
       "6409       3    374    114     1     1     1   -2.514541    0.134314   \n",
       "6410       3    348    109     1     1     1   -2.495386    0.149205   \n",
       "6411       3    190      4     1     1     1   -2.348001    0.480021   \n",
       "6412       3     20     79     1     1     1   -2.202473    0.242300   \n",
       "\n",
       "      instaLumi   bx    tres  ti  \n",
       "6408     9240.4  834  129702   0  \n",
       "6409     9240.4  834  129702   0  \n",
       "6410     9240.4  834  129702   0  \n",
       "6411     9240.4  834  129702   0  \n",
       "6412     9240.4  834  129702   0  "
      ]
     },
     "execution_count": 17,
     "metadata": {},
     "output_type": "execute_result"
    }
   ],
   "source": [
    "df_grid_selected = df_grid.query('ti == 0')\n",
    "df_grid_selected.head()"
   ]
  },
  {
   "cell_type": "code",
   "execution_count": null,
   "metadata": {
    "collapsed": true
   },
   "outputs": [],
   "source": [
    "filename = \"combined2017.csv\"\n",
    "df_grid.to_csv(filename, index=False)"
   ]
  },
  {
   "cell_type": "code",
   "execution_count": 23,
   "metadata": {
    "collapsed": true
   },
   "outputs": [],
   "source": [
    "instaLumi = tree[b'instaLumi'].array()"
   ]
  },
  {
   "cell_type": "code",
   "execution_count": 39,
   "metadata": {},
   "outputs": [
    {
     "data": {
      "image/png": "[encoded data removed]",
      "text/plain": [
       "<matplotlib.figure.Figure at 0x7fcfedf90d68>"
      ]
     },
     "metadata": {},
     "output_type": "display_data"
    }
   ],
   "source": [
    "nbins = 500\n",
    "plt.hist(instaLumi, bins=nbins, facecolor='green', ec='black', histtype='stepfilled')\n",
    "plt.xlabel('instaLumi')\n",
    "plt.ylabel('entries')\n",
    "plt.title('instaLumi')\n",
    "plt.show()"
   ]
  },
  {
   "cell_type": "code",
   "execution_count": 36,
   "metadata": {},
   "outputs": [
    {
     "name": "stdout",
     "output_type": "stream",
     "text": [
      "[ 9010.   9887.6 10683.  11441.6 12306.2 13256.7 14133.6 15011.4 15746.8\n",
      " 16369.7 17117. ]\n"
     ]
    }
   ],
   "source": [
    "nbins=10\n",
    "lumi_bins = np.quantile(instaLumi, np.linspace(0, 1, nbins+1))\n",
    "print(lumi_bins)"
   ]
  },
  {
   "cell_type": "code",
   "execution_count": 38,
   "metadata": {},
   "outputs": [
    {
     "data": {
      "image/png": "[encoded data removed]",
      "text/plain": [
       "<matplotlib.figure.Figure at 0x7fcfee00e710>"
      ]
     },
     "metadata": {},
     "output_type": "display_data"
    }
   ],
   "source": [
    "plt.hist(instaLumi, bins=lumi_bins, facecolor='green', ec='black')\n",
    "plt.xlabel('instaLumi')\n",
    "plt.ylabel('entries')\n",
    "plt.title('instaLumi | quantiles')\n",
    "plt.show()"
   ]
  },
  {
   "cell_type": "code",
   "execution_count": 44,
   "metadata": {},
   "outputs": [
    {
     "name": "stdout",
     "output_type": "stream",
     "text": [
      "[ 9010.   9887.6 10683.  11441.6 12306.2 13256.7 14133.7 15011.4 15746.8\n",
      " 16369.7 17117. ]\n",
      "[ 9010.   9887.6 10683.  11441.6 12306.2 13256.7 14133.6 15012.  15746.8\n",
      " 16369.7 17117. ]\n"
     ]
    }
   ],
   "source": [
    "print(lumi_bins)\n",
    "lumi_bins[6] = 14133.6\n",
    "lumi_bins[7] = 15012\n",
    "print(lumi_bins)"
   ]
  },
  {
   "cell_type": "code",
   "execution_count": 45,
   "metadata": {},
   "outputs": [
    {
     "data": {
      "image/png": "[encoded data removed]",
      "text/plain": [
       "<matplotlib.figure.Figure at 0x7fcfedec1358>"
      ]
     },
     "metadata": {},
     "output_type": "display_data"
    }
   ],
   "source": [
    "plt.hist(instaLumi, bins=lumi_bins, facecolor='green', ec='black')\n",
    "plt.xlabel('instaLumi')\n",
    "plt.ylabel('entries')\n",
    "plt.title('instaLumi | quantiles')\n",
    "plt.show()"
   ]
  },
  {
   "cell_type": "code",
   "execution_count": 48,
   "metadata": {},
   "outputs": [
    {
     "data": {
      "image/png": "[encoded data removed]",
      "text/plain": [
       "<matplotlib.figure.Figure at 0x7fcfedec1320>"
      ]
     },
     "metadata": {},
     "output_type": "display_data"
    },
    {
     "data": {
      "image/png": "[encoded data removed]",
      "text/plain": [
       "<matplotlib.figure.Figure at 0x7fcd1179dcc0>"
      ]
     },
     "metadata": {},
     "output_type": "display_data"
    }
   ],
   "source": [
    "x = np.random.rand(1000)\n",
    "x_bins = np.quantile(x, np.linspace(0, 1, 11))\n",
    "plt.hist(x, ec=\"black\")\n",
    "plt.show()\n",
    "plt.hist(x, bins=x_bins, ec=\"black\")\n",
    "plt.show()"
   ]
  },
  {
   "cell_type": "code",
   "execution_count": null,
   "metadata": {
    "collapsed": true
   },
   "outputs": [],
   "source": []
  }
 ],
 "metadata": {
  "anaconda-cloud": {},
  "kernelspec": {
   "display_name": "pixel",
   "language": "python",
   "name": "pixel"
  },
  "language_info": {
   "codemirror_mode": {
    "name": "ipython",
    "version": 3
   },
   "file_extension": ".py",
   "mimetype": "text/x-python",
   "name": "python",
   "nbconvert_exporter": "python",
   "pygments_lexer": "ipython3",
   "version": "3.6.1"
  }
 },
 "nbformat": 4,
 "nbformat_minor": 2
}
